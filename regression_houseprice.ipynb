{
 "cells": [
  {
   "cell_type": "markdown",
   "id": "b17899cd",
   "metadata": {},
   "source": [
    "# Предсказание цен на недвижимость"
   ]
  },
  {
   "cell_type": "markdown",
   "id": "88bb385a",
   "metadata": {},
   "source": [
    "**Прогнозирование стоимости домов в округе Кинг (штат Вашингтон, США) с помощью построения регрессионных моделей и их анализа. Набор данных состоит из цен на дома в округе Кинг, проданных в период с мая 2014 года по май 2015 года. Данные опубликованы в открытом доступе на платформе Kaggle.**\n",
    "\n",
    "![Данные с сайта renthub.com по стоимости квартир для аренды в Сиэтле:](https://3.downloader.disk.yandex.ru/preview/8aca6aad94538f9acbd360166ac350ea4ac25e0014102401653b7872ae917f50/inf/mPVh6sIuoUC7gweH3D7_Lmm_lk-iFq_jrspiTW-EThAZQ5rc13GlVTeIlpTIxBusJ1gM4hiLOO4vkN9nyy2dJg%3D%3D?uid=1130000061821153&filename=price_Seattle.jpg&disposition=inline&hash=&limit=0&content_type=image%2Fjpeg&owner_uid=1130000061821153&tknv=v2&size=1500x500)"
   ]
  },
  {
   "cell_type": "code",
   "execution_count": 322,
   "id": "f1feeeba",
   "metadata": {},
   "outputs": [],
   "source": [
    "import pandas as pd\n",
    "import numpy as np\n",
    "import matplotlib.pyplot as plt\n",
    "import sklearn\n",
    "from sklearn import linear_model, ensemble\n",
    "from sklearn.metrics import mean_absolute_error, mean_squared_error"
   ]
  },
  {
   "cell_type": "code",
   "execution_count": 329,
   "id": "4464698a",
   "metadata": {},
   "outputs": [
    {
     "data": {
      "text/html": [
       "<div>\n",
       "<style scoped>\n",
       "    .dataframe tbody tr th:only-of-type {\n",
       "        vertical-align: middle;\n",
       "    }\n",
       "\n",
       "    .dataframe tbody tr th {\n",
       "        vertical-align: top;\n",
       "    }\n",
       "\n",
       "    .dataframe thead th {\n",
       "        text-align: right;\n",
       "    }\n",
       "</style>\n",
       "<table border=\"1\" class=\"dataframe\">\n",
       "  <thead>\n",
       "    <tr style=\"text-align: right;\">\n",
       "      <th></th>\n",
       "      <th>целевая.цена</th>\n",
       "      <th>спальни</th>\n",
       "      <th>ванные</th>\n",
       "      <th>жилая площадь</th>\n",
       "      <th>общая площадь</th>\n",
       "      <th>количество этажей</th>\n",
       "      <th>вид на воду</th>\n",
       "      <th>просмотрены ранее</th>\n",
       "      <th>состояние</th>\n",
       "      <th>оценка риелтора</th>\n",
       "      <th>площадь без подвала</th>\n",
       "      <th>площадь подвала</th>\n",
       "      <th>год постройки</th>\n",
       "      <th>год реновации</th>\n",
       "      <th>широта</th>\n",
       "      <th>долгота</th>\n",
       "    </tr>\n",
       "  </thead>\n",
       "  <tbody>\n",
       "    <tr>\n",
       "      <th>0</th>\n",
       "      <td>830000</td>\n",
       "      <td>5</td>\n",
       "      <td>3</td>\n",
       "      <td>3490</td>\n",
       "      <td>21780</td>\n",
       "      <td>2</td>\n",
       "      <td>0</td>\n",
       "      <td>0</td>\n",
       "      <td>3</td>\n",
       "      <td>8</td>\n",
       "      <td>3490</td>\n",
       "      <td>0</td>\n",
       "      <td>1996</td>\n",
       "      <td>0</td>\n",
       "      <td>47.6707</td>\n",
       "      <td>-122.144</td>\n",
       "    </tr>\n",
       "    <tr>\n",
       "      <th>1</th>\n",
       "      <td>385000</td>\n",
       "      <td>4</td>\n",
       "      <td>1</td>\n",
       "      <td>2360</td>\n",
       "      <td>7620</td>\n",
       "      <td>1</td>\n",
       "      <td>0</td>\n",
       "      <td>0</td>\n",
       "      <td>4</td>\n",
       "      <td>7</td>\n",
       "      <td>1180</td>\n",
       "      <td>1180</td>\n",
       "      <td>1955</td>\n",
       "      <td>0</td>\n",
       "      <td>47.5278</td>\n",
       "      <td>-122.345</td>\n",
       "    </tr>\n",
       "    <tr>\n",
       "      <th>2</th>\n",
       "      <td>610000</td>\n",
       "      <td>6</td>\n",
       "      <td>2</td>\n",
       "      <td>2040</td>\n",
       "      <td>8560</td>\n",
       "      <td>1</td>\n",
       "      <td>0</td>\n",
       "      <td>2</td>\n",
       "      <td>4</td>\n",
       "      <td>7</td>\n",
       "      <td>1100</td>\n",
       "      <td>940</td>\n",
       "      <td>1961</td>\n",
       "      <td>0</td>\n",
       "      <td>47.6160</td>\n",
       "      <td>-122.115</td>\n",
       "    </tr>\n",
       "    <tr>\n",
       "      <th>3</th>\n",
       "      <td>550000</td>\n",
       "      <td>3</td>\n",
       "      <td>1</td>\n",
       "      <td>1940</td>\n",
       "      <td>8376</td>\n",
       "      <td>1</td>\n",
       "      <td>0</td>\n",
       "      <td>0</td>\n",
       "      <td>4</td>\n",
       "      <td>8</td>\n",
       "      <td>1290</td>\n",
       "      <td>650</td>\n",
       "      <td>1963</td>\n",
       "      <td>0</td>\n",
       "      <td>47.5586</td>\n",
       "      <td>-122.173</td>\n",
       "    </tr>\n",
       "    <tr>\n",
       "      <th>4</th>\n",
       "      <td>1300000</td>\n",
       "      <td>3</td>\n",
       "      <td>2</td>\n",
       "      <td>3450</td>\n",
       "      <td>5350</td>\n",
       "      <td>1</td>\n",
       "      <td>0</td>\n",
       "      <td>3</td>\n",
       "      <td>4</td>\n",
       "      <td>9</td>\n",
       "      <td>2590</td>\n",
       "      <td>860</td>\n",
       "      <td>1925</td>\n",
       "      <td>0</td>\n",
       "      <td>47.6389</td>\n",
       "      <td>-122.407</td>\n",
       "    </tr>\n",
       "    <tr>\n",
       "      <th>...</th>\n",
       "      <td>...</td>\n",
       "      <td>...</td>\n",
       "      <td>...</td>\n",
       "      <td>...</td>\n",
       "      <td>...</td>\n",
       "      <td>...</td>\n",
       "      <td>...</td>\n",
       "      <td>...</td>\n",
       "      <td>...</td>\n",
       "      <td>...</td>\n",
       "      <td>...</td>\n",
       "      <td>...</td>\n",
       "      <td>...</td>\n",
       "      <td>...</td>\n",
       "      <td>...</td>\n",
       "      <td>...</td>\n",
       "    </tr>\n",
       "    <tr>\n",
       "      <th>15124</th>\n",
       "      <td>930000</td>\n",
       "      <td>4</td>\n",
       "      <td>4</td>\n",
       "      <td>5710</td>\n",
       "      <td>24663</td>\n",
       "      <td>2</td>\n",
       "      <td>0</td>\n",
       "      <td>0</td>\n",
       "      <td>3</td>\n",
       "      <td>11</td>\n",
       "      <td>5710</td>\n",
       "      <td>0</td>\n",
       "      <td>2007</td>\n",
       "      <td>0</td>\n",
       "      <td>47.3065</td>\n",
       "      <td>-122.158</td>\n",
       "    </tr>\n",
       "    <tr>\n",
       "      <th>15125</th>\n",
       "      <td>400000</td>\n",
       "      <td>3</td>\n",
       "      <td>1</td>\n",
       "      <td>1950</td>\n",
       "      <td>4473</td>\n",
       "      <td>1</td>\n",
       "      <td>0</td>\n",
       "      <td>0</td>\n",
       "      <td>4</td>\n",
       "      <td>6</td>\n",
       "      <td>1530</td>\n",
       "      <td>420</td>\n",
       "      <td>1914</td>\n",
       "      <td>0</td>\n",
       "      <td>47.7094</td>\n",
       "      <td>-122.228</td>\n",
       "    </tr>\n",
       "    <tr>\n",
       "      <th>15126</th>\n",
       "      <td>1580000</td>\n",
       "      <td>3</td>\n",
       "      <td>2</td>\n",
       "      <td>3620</td>\n",
       "      <td>14250</td>\n",
       "      <td>2</td>\n",
       "      <td>0</td>\n",
       "      <td>0</td>\n",
       "      <td>3</td>\n",
       "      <td>8</td>\n",
       "      <td>3220</td>\n",
       "      <td>400</td>\n",
       "      <td>2007</td>\n",
       "      <td>0</td>\n",
       "      <td>47.5767</td>\n",
       "      <td>-122.225</td>\n",
       "    </tr>\n",
       "    <tr>\n",
       "      <th>15127</th>\n",
       "      <td>339900</td>\n",
       "      <td>4</td>\n",
       "      <td>2</td>\n",
       "      <td>2340</td>\n",
       "      <td>9748</td>\n",
       "      <td>1</td>\n",
       "      <td>0</td>\n",
       "      <td>1</td>\n",
       "      <td>3</td>\n",
       "      <td>8</td>\n",
       "      <td>1610</td>\n",
       "      <td>730</td>\n",
       "      <td>1981</td>\n",
       "      <td>0</td>\n",
       "      <td>47.3363</td>\n",
       "      <td>-122.331</td>\n",
       "    </tr>\n",
       "    <tr>\n",
       "      <th>15128</th>\n",
       "      <td>430000</td>\n",
       "      <td>3</td>\n",
       "      <td>1</td>\n",
       "      <td>1450</td>\n",
       "      <td>7316</td>\n",
       "      <td>1</td>\n",
       "      <td>0</td>\n",
       "      <td>0</td>\n",
       "      <td>3</td>\n",
       "      <td>7</td>\n",
       "      <td>1450</td>\n",
       "      <td>0</td>\n",
       "      <td>1961</td>\n",
       "      <td>0</td>\n",
       "      <td>47.7725</td>\n",
       "      <td>-122.349</td>\n",
       "    </tr>\n",
       "  </tbody>\n",
       "</table>\n",
       "<p>15129 rows × 16 columns</p>\n",
       "</div>"
      ],
      "text/plain": [
       "       целевая.цена  спальни  ванные  жилая площадь  общая площадь  \\\n",
       "0            830000        5       3           3490          21780   \n",
       "1            385000        4       1           2360           7620   \n",
       "2            610000        6       2           2040           8560   \n",
       "3            550000        3       1           1940           8376   \n",
       "4           1300000        3       2           3450           5350   \n",
       "...             ...      ...     ...            ...            ...   \n",
       "15124        930000        4       4           5710          24663   \n",
       "15125        400000        3       1           1950           4473   \n",
       "15126       1580000        3       2           3620          14250   \n",
       "15127        339900        4       2           2340           9748   \n",
       "15128        430000        3       1           1450           7316   \n",
       "\n",
       "       количество этажей  вид на воду  просмотрены ранее  состояние  \\\n",
       "0                      2            0                  0          3   \n",
       "1                      1            0                  0          4   \n",
       "2                      1            0                  2          4   \n",
       "3                      1            0                  0          4   \n",
       "4                      1            0                  3          4   \n",
       "...                  ...          ...                ...        ...   \n",
       "15124                  2            0                  0          3   \n",
       "15125                  1            0                  0          4   \n",
       "15126                  2            0                  0          3   \n",
       "15127                  1            0                  1          3   \n",
       "15128                  1            0                  0          3   \n",
       "\n",
       "       оценка риелтора  площадь без подвала  площадь подвала  год постройки  \\\n",
       "0                    8                 3490                0           1996   \n",
       "1                    7                 1180             1180           1955   \n",
       "2                    7                 1100              940           1961   \n",
       "3                    8                 1290              650           1963   \n",
       "4                    9                 2590              860           1925   \n",
       "...                ...                  ...              ...            ...   \n",
       "15124               11                 5710                0           2007   \n",
       "15125                6                 1530              420           1914   \n",
       "15126                8                 3220              400           2007   \n",
       "15127                8                 1610              730           1981   \n",
       "15128                7                 1450                0           1961   \n",
       "\n",
       "       год реновации   широта  долгота  \n",
       "0                  0  47.6707 -122.144  \n",
       "1                  0  47.5278 -122.345  \n",
       "2                  0  47.6160 -122.115  \n",
       "3                  0  47.5586 -122.173  \n",
       "4                  0  47.6389 -122.407  \n",
       "...              ...      ...      ...  \n",
       "15124              0  47.3065 -122.158  \n",
       "15125              0  47.7094 -122.228  \n",
       "15126              0  47.5767 -122.225  \n",
       "15127              0  47.3363 -122.331  \n",
       "15128              0  47.7725 -122.349  \n",
       "\n",
       "[15129 rows x 16 columns]"
      ]
     },
     "execution_count": 329,
     "metadata": {},
     "output_type": "execute_result"
    }
   ],
   "source": [
    "training_data = pd.read_csv('predict_house_price_training_data.csv')\n",
    "training_data.columns = training_data.columns.str.lower()\n",
    "training_data = training_data.astype({'ванные': 'int64', 'количество этажей': 'int64'})\n",
    "training_data"
   ]
  },
  {
   "cell_type": "code",
   "execution_count": 249,
   "id": "306b9816",
   "metadata": {},
   "outputs": [],
   "source": [
    "target_variable_name = 'целевая.цена'"
   ]
  },
  {
   "cell_type": "code",
   "execution_count": 275,
   "id": "ee74c82b",
   "metadata": {},
   "outputs": [
    {
     "name": "stdout",
     "output_type": "stream",
     "text": [
      "(15129, 16)\n",
      "(11331, 16)\n"
     ]
    }
   ],
   "source": [
    "for col in training_data:\n",
    "    q3 = training_data[col].quantile(q=.75)\n",
    "    training_data_cleaned = training_data[training_data[col] < q3]\n",
    "    \n",
    "print(training_data.shape)\n",
    "print(training_data_cleaned.shape)"
   ]
  },
  {
   "cell_type": "code",
   "execution_count": 276,
   "id": "36110bc4",
   "metadata": {},
   "outputs": [],
   "source": [
    "training_values = training_data_cleaned[target_variable_name]\n",
    "training_points = training_data_cleaned.drop([target_variable_name], axis='columns')"
   ]
  },
  {
   "cell_type": "code",
   "execution_count": 277,
   "id": "26c2ef29",
   "metadata": {},
   "outputs": [],
   "source": [
    "linear_regression_model = linear_model.LinearRegression()\n",
    "random_forest_model = ensemble.RandomForestRegressor(n_estimators=1000)"
   ]
  },
  {
   "cell_type": "code",
   "execution_count": 278,
   "id": "81c80545",
   "metadata": {},
   "outputs": [
    {
     "data": {
      "text/plain": [
       "LinearRegression()"
      ]
     },
     "execution_count": 278,
     "metadata": {},
     "output_type": "execute_result"
    }
   ],
   "source": [
    "linear_regression_model.fit(training_points, training_values)"
   ]
  },
  {
   "cell_type": "code",
   "execution_count": 279,
   "id": "e19af9e9",
   "metadata": {},
   "outputs": [
    {
     "data": {
      "text/plain": [
       "RandomForestRegressor(n_estimators=1000)"
      ]
     },
     "execution_count": 279,
     "metadata": {},
     "output_type": "execute_result"
    }
   ],
   "source": [
    "random_forest_model.fit(training_points, training_values)"
   ]
  },
  {
   "cell_type": "code",
   "execution_count": 280,
   "id": "f2e8ea72",
   "metadata": {},
   "outputs": [
    {
     "name": "stdout",
     "output_type": "stream",
     "text": [
      "(6484, 16)\n"
     ]
    },
    {
     "data": {
      "text/html": [
       "<div>\n",
       "<style scoped>\n",
       "    .dataframe tbody tr th:only-of-type {\n",
       "        vertical-align: middle;\n",
       "    }\n",
       "\n",
       "    .dataframe tbody tr th {\n",
       "        vertical-align: top;\n",
       "    }\n",
       "\n",
       "    .dataframe thead th {\n",
       "        text-align: right;\n",
       "    }\n",
       "</style>\n",
       "<table border=\"1\" class=\"dataframe\">\n",
       "  <thead>\n",
       "    <tr style=\"text-align: right;\">\n",
       "      <th></th>\n",
       "      <th>целевая.цена</th>\n",
       "      <th>спальни</th>\n",
       "      <th>ванные</th>\n",
       "      <th>жилая площадь</th>\n",
       "      <th>общая площадь</th>\n",
       "      <th>количество этажей</th>\n",
       "      <th>вид на воду</th>\n",
       "      <th>просмотрены ранее</th>\n",
       "      <th>состояние</th>\n",
       "      <th>оценка риелтора</th>\n",
       "      <th>площадь без подвала</th>\n",
       "      <th>площадь подвала</th>\n",
       "      <th>год постройки</th>\n",
       "      <th>год реновации</th>\n",
       "      <th>широта</th>\n",
       "      <th>долгота</th>\n",
       "    </tr>\n",
       "  </thead>\n",
       "  <tbody>\n",
       "    <tr>\n",
       "      <th>0</th>\n",
       "      <td>260000</td>\n",
       "      <td>3</td>\n",
       "      <td>1</td>\n",
       "      <td>1300</td>\n",
       "      <td>10139</td>\n",
       "      <td>1</td>\n",
       "      <td>0</td>\n",
       "      <td>0</td>\n",
       "      <td>3</td>\n",
       "      <td>7</td>\n",
       "      <td>1300</td>\n",
       "      <td>0</td>\n",
       "      <td>1962</td>\n",
       "      <td>2007</td>\n",
       "      <td>47.3427</td>\n",
       "      <td>-122.087</td>\n",
       "    </tr>\n",
       "    <tr>\n",
       "      <th>1</th>\n",
       "      <td>734500</td>\n",
       "      <td>4</td>\n",
       "      <td>2</td>\n",
       "      <td>3280</td>\n",
       "      <td>6845</td>\n",
       "      <td>2</td>\n",
       "      <td>0</td>\n",
       "      <td>0</td>\n",
       "      <td>3</td>\n",
       "      <td>10</td>\n",
       "      <td>3280</td>\n",
       "      <td>0</td>\n",
       "      <td>2003</td>\n",
       "      <td>0</td>\n",
       "      <td>47.7042</td>\n",
       "      <td>-122.107</td>\n",
       "    </tr>\n",
       "    <tr>\n",
       "      <th>2</th>\n",
       "      <td>325000</td>\n",
       "      <td>1</td>\n",
       "      <td>1</td>\n",
       "      <td>1220</td>\n",
       "      <td>12426</td>\n",
       "      <td>1</td>\n",
       "      <td>0</td>\n",
       "      <td>4</td>\n",
       "      <td>4</td>\n",
       "      <td>6</td>\n",
       "      <td>1220</td>\n",
       "      <td>0</td>\n",
       "      <td>1946</td>\n",
       "      <td>0</td>\n",
       "      <td>47.4047</td>\n",
       "      <td>-122.331</td>\n",
       "    </tr>\n",
       "    <tr>\n",
       "      <th>3</th>\n",
       "      <td>1990000</td>\n",
       "      <td>3</td>\n",
       "      <td>2</td>\n",
       "      <td>2880</td>\n",
       "      <td>13500</td>\n",
       "      <td>1</td>\n",
       "      <td>0</td>\n",
       "      <td>4</td>\n",
       "      <td>5</td>\n",
       "      <td>8</td>\n",
       "      <td>1520</td>\n",
       "      <td>1360</td>\n",
       "      <td>1950</td>\n",
       "      <td>0</td>\n",
       "      <td>47.6281</td>\n",
       "      <td>-122.216</td>\n",
       "    </tr>\n",
       "    <tr>\n",
       "      <th>4</th>\n",
       "      <td>315000</td>\n",
       "      <td>3</td>\n",
       "      <td>2</td>\n",
       "      <td>1300</td>\n",
       "      <td>3731</td>\n",
       "      <td>1</td>\n",
       "      <td>0</td>\n",
       "      <td>0</td>\n",
       "      <td>3</td>\n",
       "      <td>7</td>\n",
       "      <td>900</td>\n",
       "      <td>400</td>\n",
       "      <td>1993</td>\n",
       "      <td>0</td>\n",
       "      <td>47.5374</td>\n",
       "      <td>-122.270</td>\n",
       "    </tr>\n",
       "  </tbody>\n",
       "</table>\n",
       "</div>"
      ],
      "text/plain": [
       "   целевая.цена  спальни  ванные  жилая площадь  общая площадь  \\\n",
       "0        260000        3       1           1300          10139   \n",
       "1        734500        4       2           3280           6845   \n",
       "2        325000        1       1           1220          12426   \n",
       "3       1990000        3       2           2880          13500   \n",
       "4        315000        3       2           1300           3731   \n",
       "\n",
       "   количество этажей  вид на воду  просмотрены ранее  состояние  \\\n",
       "0                  1            0                  0          3   \n",
       "1                  2            0                  0          3   \n",
       "2                  1            0                  4          4   \n",
       "3                  1            0                  4          5   \n",
       "4                  1            0                  0          3   \n",
       "\n",
       "   оценка риелтора  площадь без подвала  площадь подвала  год постройки  \\\n",
       "0                7                 1300                0           1962   \n",
       "1               10                 3280                0           2003   \n",
       "2                6                 1220                0           1946   \n",
       "3                8                 1520             1360           1950   \n",
       "4                7                  900              400           1993   \n",
       "\n",
       "   год реновации   широта  долгота  \n",
       "0           2007  47.3427 -122.087  \n",
       "1              0  47.7042 -122.107  \n",
       "2              0  47.4047 -122.331  \n",
       "3              0  47.6281 -122.216  \n",
       "4              0  47.5374 -122.270  "
      ]
     },
     "execution_count": 280,
     "metadata": {},
     "output_type": "execute_result"
    }
   ],
   "source": [
    "test_data = pd.read_csv('predict_house_price_test_data.csv')\n",
    "test_data.columns = test_data.columns.str.lower()\n",
    "test_data = test_data.astype({'ванные': 'int64', 'количество этажей': 'int64'})\n",
    "print(test_data.shape)\n",
    "test_data.head()"
   ]
  },
  {
   "cell_type": "code",
   "execution_count": 335,
   "id": "f3ec59f1",
   "metadata": {},
   "outputs": [],
   "source": [
    "test_values = test_data['целевая.цена']\n",
    "test_points = test_data.drop('целевая.цена', axis='columns')"
   ]
  },
  {
   "cell_type": "code",
   "execution_count": 302,
   "id": "fac4cc8a",
   "metadata": {},
   "outputs": [
    {
     "data": {
      "text/plain": [
       "array([ 193484.78509878,  968894.4474756 ,  472741.30149177, ...,\n",
       "       1068497.43974142,  320336.19336231, 1015554.92952213])"
      ]
     },
     "execution_count": 302,
     "metadata": {},
     "output_type": "execute_result"
    }
   ],
   "source": [
    "test_predictions_linear = linear_regression_model.predict(test_points)\n",
    "test_predictions_linear"
   ]
  },
  {
   "cell_type": "code",
   "execution_count": 298,
   "id": "560e00f2",
   "metadata": {},
   "outputs": [
    {
     "data": {
      "text/plain": [
       "array([ 243457.331     ,  763802.05961905,  311569.132     , ...,\n",
       "       1392150.85      ,  289444.555     , 1196237.71716667])"
      ]
     },
     "execution_count": 298,
     "metadata": {},
     "output_type": "execute_result"
    }
   ],
   "source": [
    "test_predictions_random_forest = random_forest_model.predict(test_points)\n",
    "test_predictions_random_forest"
   ]
  },
  {
   "cell_type": "markdown",
   "id": "8002da97",
   "metadata": {},
   "source": [
    "### Визуализируем прогноз моделей и настоящие значения из тестовой выборки."
   ]
  },
  {
   "cell_type": "code",
   "execution_count": 316,
   "id": "362fde25",
   "metadata": {},
   "outputs": [
    {
     "data": {
      "image/png": "[encoded data removed]",
      "text/plain": [
       "<Figure size 504x504 with 1 Axes>"
      ]
     },
     "metadata": {
      "needs_background": "light"
     },
     "output_type": "display_data"
    }
   ],
   "source": [
    "plt.figure(figsize=(7, 7))\n",
    "plt.scatter(test_values, test_predictions_linear)\n",
    "plt.plot([0, 6 * 10**6], [0, 6 * 10**6])\n",
    "plt.xlabel('Настоящая цена', fontsize=20)\n",
    "plt.ylabel('Предсказанная цена', fontsize=20);"
   ]
  },
  {
   "cell_type": "code",
   "execution_count": 315,
   "id": "aac9b2c5",
   "metadata": {},
   "outputs": [
    {
     "data": {
      "image/png": "[encoded data removed]",
      "text/plain": [
       "<Figure size 504x504 with 1 Axes>"
      ]
     },
     "metadata": {
      "needs_background": "light"
     },
     "output_type": "display_data"
    }
   ],
   "source": [
    "plt.figure(figsize=(7, 7))\n",
    "plt.scatter(test_values,test_predictions_random_forest)\n",
    "plt.plot([0, 6 * 10**6], [0, 6 * 10**6])\n",
    "plt.xlabel('Настоящая цена', fontsize=20)\n",
    "plt.ylabel('Предсказанная цена', fontsize=20);"
   ]
  },
  {
   "cell_type": "markdown",
   "id": "77a99116",
   "metadata": {},
   "source": [
    "**Модель случайного леса визуально работает лучше.**"
   ]
  },
  {
   "cell_type": "markdown",
   "id": "c41d4cdb",
   "metadata": {},
   "source": [
    "### Проверим среднюю абсолютную ошибку и среднеквадратичное отклонение."
   ]
  },
  {
   "cell_type": "code",
   "execution_count": 340,
   "id": "0e2e5b8f",
   "metadata": {},
   "outputs": [],
   "source": [
    "mean_absolute_error_linear_model = mean_absolute_error(test_values, test_predictions_linear) \n",
    "mean_squared_error_linear_model =  mean_squared_error(test_values, test_predictions_linear)"
   ]
  },
  {
   "cell_type": "code",
   "execution_count": 341,
   "id": "fc0d931a",
   "metadata": {},
   "outputs": [],
   "source": [
    "mean_absolute_error_random_forest_model = mean_absolute_error(test_values, test_predictions_random_forest)\n",
    "mean_squared_error_random_forest_model = mean_squared_error(test_values, test_predictions_random_forest)"
   ]
  },
  {
   "cell_type": "code",
   "execution_count": 346,
   "id": "caa26a2f",
   "metadata": {},
   "outputs": [
    {
     "name": "stdout",
     "output_type": "stream",
     "text": [
      "MAE: 126189.47, RMSE: 200679.68 для модели линейной регрессии\n",
      "MAE: 27807.61, RMSE: 51013.13 для модели случайного леса\n"
     ]
    }
   ],
   "source": [
    "print(\"MAE: {0:7.2f}, RMSE: {1:7.2f} для модели линейной регрессии\".format(\n",
    "        mean_absolute_error_linear_model, \n",
    "        np.sqrt(mean_squared_error_linear_model)))\n",
    "\n",
    "print(\"MAE: {0:7.2f}, RMSE: {1:7.2f} для модели случайного леса\".format(\n",
    "        mean_absolute_error_random_forest_model, \n",
    "        np.sqrt(mean_squared_error_random_forest_model)))"
   ]
  },
  {
   "cell_type": "markdown",
   "id": "dde36f74",
   "metadata": {},
   "source": [
    "**Модель случайного леса действительно работает лучше.**"
   ]
  },
  {
   "cell_type": "markdown",
   "id": "599499df",
   "metadata": {},
   "source": [
    "### Вычислим важность признаков:"
   ]
  },
  {
   "cell_type": "code",
   "execution_count": 330,
   "id": "640a7d2f",
   "metadata": {},
   "outputs": [
    {
     "data": {
      "text/plain": [
       "RandomForestRegressor(n_estimators=1000)"
      ]
     },
     "execution_count": 330,
     "metadata": {},
     "output_type": "execute_result"
    }
   ],
   "source": [
    "random_forest_model.fit(training_points, training_values)"
   ]
  },
  {
   "cell_type": "code",
   "execution_count": 331,
   "id": "c558e387",
   "metadata": {},
   "outputs": [
    {
     "data": {
      "text/plain": [
       "array([0.00448472, 0.00415015, 0.38958362, 0.0267029 , 0.0016985 ,\n",
       "       0.01377149, 0.01833873, 0.00414367, 0.21013578, 0.04762451,\n",
       "       0.00783387, 0.02390517, 0.00324061, 0.20397579, 0.04041049])"
      ]
     },
     "execution_count": 331,
     "metadata": {},
     "output_type": "execute_result"
    }
   ],
   "source": [
    "random_forest_model.feature_importances_"
   ]
  },
  {
   "cell_type": "code",
   "execution_count": 355,
   "id": "0860b0b9",
   "metadata": {},
   "outputs": [
    {
     "data": {
      "text/html": [
       "<div>\n",
       "<style scoped>\n",
       "    .dataframe tbody tr th:only-of-type {\n",
       "        vertical-align: middle;\n",
       "    }\n",
       "\n",
       "    .dataframe tbody tr th {\n",
       "        vertical-align: top;\n",
       "    }\n",
       "\n",
       "    .dataframe thead th {\n",
       "        text-align: right;\n",
       "    }\n",
       "</style>\n",
       "<table border=\"1\" class=\"dataframe\">\n",
       "  <thead>\n",
       "    <tr style=\"text-align: right;\">\n",
       "      <th></th>\n",
       "      <th>Название признака</th>\n",
       "      <th>Важность признака</th>\n",
       "    </tr>\n",
       "  </thead>\n",
       "  <tbody>\n",
       "    <tr>\n",
       "      <th>0</th>\n",
       "      <td>жилая площадь</td>\n",
       "      <td>0.389584</td>\n",
       "    </tr>\n",
       "    <tr>\n",
       "      <th>1</th>\n",
       "      <td>оценка риелтора</td>\n",
       "      <td>0.210136</td>\n",
       "    </tr>\n",
       "    <tr>\n",
       "      <th>2</th>\n",
       "      <td>широта</td>\n",
       "      <td>0.203976</td>\n",
       "    </tr>\n",
       "    <tr>\n",
       "      <th>3</th>\n",
       "      <td>площадь без подвала</td>\n",
       "      <td>0.047625</td>\n",
       "    </tr>\n",
       "    <tr>\n",
       "      <th>4</th>\n",
       "      <td>долгота</td>\n",
       "      <td>0.040410</td>\n",
       "    </tr>\n",
       "    <tr>\n",
       "      <th>5</th>\n",
       "      <td>общая площадь</td>\n",
       "      <td>0.026703</td>\n",
       "    </tr>\n",
       "    <tr>\n",
       "      <th>6</th>\n",
       "      <td>год постройки</td>\n",
       "      <td>0.023905</td>\n",
       "    </tr>\n",
       "    <tr>\n",
       "      <th>7</th>\n",
       "      <td>просмотрены ранее</td>\n",
       "      <td>0.018339</td>\n",
       "    </tr>\n",
       "    <tr>\n",
       "      <th>8</th>\n",
       "      <td>вид на воду</td>\n",
       "      <td>0.013771</td>\n",
       "    </tr>\n",
       "    <tr>\n",
       "      <th>9</th>\n",
       "      <td>площадь подвала</td>\n",
       "      <td>0.007834</td>\n",
       "    </tr>\n",
       "    <tr>\n",
       "      <th>10</th>\n",
       "      <td>спальни</td>\n",
       "      <td>0.004485</td>\n",
       "    </tr>\n",
       "    <tr>\n",
       "      <th>11</th>\n",
       "      <td>ванные</td>\n",
       "      <td>0.004150</td>\n",
       "    </tr>\n",
       "    <tr>\n",
       "      <th>12</th>\n",
       "      <td>состояние</td>\n",
       "      <td>0.004144</td>\n",
       "    </tr>\n",
       "    <tr>\n",
       "      <th>13</th>\n",
       "      <td>год реновации</td>\n",
       "      <td>0.003241</td>\n",
       "    </tr>\n",
       "    <tr>\n",
       "      <th>14</th>\n",
       "      <td>количество этажей</td>\n",
       "      <td>0.001699</td>\n",
       "    </tr>\n",
       "  </tbody>\n",
       "</table>\n",
       "</div>"
      ],
      "text/plain": [
       "      Название признака  Важность признака\n",
       "0         жилая площадь           0.389584\n",
       "1       оценка риелтора           0.210136\n",
       "2                широта           0.203976\n",
       "3   площадь без подвала           0.047625\n",
       "4               долгота           0.040410\n",
       "5         общая площадь           0.026703\n",
       "6         год постройки           0.023905\n",
       "7     просмотрены ранее           0.018339\n",
       "8           вид на воду           0.013771\n",
       "9       площадь подвала           0.007834\n",
       "10              спальни           0.004485\n",
       "11               ванные           0.004150\n",
       "12            состояние           0.004144\n",
       "13        год реновации           0.003241\n",
       "14    количество этажей           0.001699"
      ]
     },
     "execution_count": 355,
     "metadata": {},
     "output_type": "execute_result"
    }
   ],
   "source": [
    "feature_importance = pd.DataFrame(columns = ['Название признака', 'Важность признака'])\n",
    "feature_importance['Название признака'] = training_points.keys()\n",
    "feature_importance['Важность признака'] = random_forest_model.feature_importances_\n",
    "feature_importance = feature_importance.sort_values(by = 'Важность признака', ascending=False, ignore_index=True)\n",
    "feature_importance"
   ]
  },
  {
   "cell_type": "markdown",
   "id": "b0d6702b",
   "metadata": {},
   "source": [
    "### Наиболее значимыми признаками являются:\n",
    "\n",
    "   * Жилая площадь\n",
    "   * Оценка риэлтора\n",
    "   * Широта"
   ]
  },
  {
   "cell_type": "markdown",
   "id": "86dd1fe2",
   "metadata": {},
   "source": [
    "На карте видно, что центр Сиэтла находится в верхней половине карты. Соответственно, чем ближе к нему, тем дороже будет квартира.\n",
    "\n",
    "![Карта Сиэтла](https://3.downloader.disk.yandex.ru/preview/18cb712bfed57a5c3e6ef8ba7f191b6f3b933da56d5d8b3f86718d69202e2a4c/inf/EXMUt-Y9eZbC47CE2sIT7Tn5rbOb3e75YGVtstCTn1uZVTAQWRA9DeVBXPCMc2ZHVtKaYV4QUdNRg1fT2W7lvg%3D%3D?uid=1130000061821153&filename=map_King_county.jpg&disposition=inline&hash=&limit=0&content_type=image%2Fjpeg&owner_uid=1130000061821153&tknv=v2&size=1058x420)"
   ]
  }
 ],
 "metadata": {
  "kernelspec": {
   "display_name": "Python 3 (ipykernel)",
   "language": "python",
   "name": "python3"
  },
  "language_info": {
   "codemirror_mode": {
    "name": "ipython",
    "version": 3
   },
   "file_extension": ".py",
   "mimetype": "text/x-python",
   "name": "python",
   "nbconvert_exporter": "python",
   "pygments_lexer": "ipython3",
   "version": "3.9.12"
  }
 },
 "nbformat": 4,
 "nbformat_minor": 5
}
